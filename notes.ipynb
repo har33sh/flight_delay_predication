Statements 
1. Strong Positive correlation between the deperature delay and the arriaval delay -> Dataset is good
2. Plot the Dep delay along with the arriaval delay




Features to be considered
1. Depature Delay, Arrival Delay
2. Difference by average
3. kms or +/- hours based on the speed of the aircraft



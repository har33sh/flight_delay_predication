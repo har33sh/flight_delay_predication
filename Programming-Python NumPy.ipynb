{
 "cells": [
  {
   "cell_type": "markdown",
   "metadata": {},
   "source": [
    "(a) Creating Matrix A<br> \n",
    "N(10 − 2k, sqrt(2k)) , k = 1, 2, 3, 4, 5, for Even rows<br> \n",
    "logNormal( μ , 2k + 1) , k = 0, 1, 2, 3, 4 for Odd rows<br> \n",
    "\n",
    "μ =\n",
    "<br> \n",
    "0.5(2k + 1), k = 0, 1, 2<br> \n",
    "0.1(2k + 1), k = 3, 4<br> "
   ]
  },
  {
   "cell_type": "code",
   "execution_count": 104,
   "metadata": {},
   "outputs": [
    {
     "data": {
      "text/plain": [
       "matrix([[3.36423126e+00, 5.57801787e+00, 3.13372050e+00, 1.72782276e+00,\n",
       "         7.70114197e+00, 1.15035438e-01, 3.89683059e-01, 4.01177670e+00,\n",
       "         1.35261803e+01, 5.48347718e+00],\n",
       "        [5.36714399e+00, 3.52326536e+00, 7.75021273e+00, 1.09023581e+01,\n",
       "         5.58973118e+00, 7.87409405e+00, 5.74873837e+00, 8.33531951e+00,\n",
       "         6.14525773e+00, 6.52465136e+00],\n",
       "        [7.61386225e+00, 1.23200381e+00, 7.45174087e+00, 5.47739583e+01,\n",
       "         1.46252678e+01, 6.16391300e+00, 1.07247886e+01, 1.97101888e+00,\n",
       "         1.05831757e+00, 1.29393922e+01],\n",
       "        [3.22652492e+00, 8.52963463e-01, 2.07280899e+00, 3.62891524e+00,\n",
       "         7.88268257e+00, 6.13548883e+00, 5.41196334e+00, 6.06596466e+00,\n",
       "         2.84903052e+00, 5.40776501e+00],\n",
       "        [2.34820870e+01, 1.23033284e+01, 1.35870391e+00, 7.33368115e+01,\n",
       "         1.01279358e+03, 6.24142861e+01, 4.35757966e+00, 1.25271599e+02,\n",
       "         2.52407102e+02, 1.12863681e+00],\n",
       "        [5.91493292e-01, 4.36327464e+00, 1.20097314e+00, 4.01581687e+00,\n",
       "         1.42023419e+00, 1.55824256e-01, 3.40752556e-01, 1.66845937e+00,\n",
       "         1.91470818e+00, 4.09203831e+00],\n",
       "        [1.38357426e-02, 4.92569652e-03, 6.65696627e-01, 7.31208461e-01,\n",
       "         4.32683790e-01, 2.57742116e-01, 6.39952935e+02, 3.13469878e-01,\n",
       "         1.51839816e+00, 1.58998852e+00],\n",
       "        [1.10094413e+00, 2.15560171e+00, 1.04099515e+00, 2.80004682e+00,\n",
       "         2.27574187e-01, 1.68097604e+00, 5.05675682e+00, 8.91075275e-01,\n",
       "         4.46139628e+00, 2.78279325e+00],\n",
       "        [2.78235731e-01, 1.48585234e+01, 8.23404610e+00, 1.55786330e+02,\n",
       "         5.54927483e+00, 2.01811549e-03, 1.60006854e-01, 3.10257805e+01,\n",
       "         1.48283096e+00, 1.44646926e-01],\n",
       "        [1.35515646e+00, 6.11556521e-01, 1.98053624e+00, 2.41783347e+00,\n",
       "         2.18981891e+00, 7.36114637e-01, 2.47814998e+00, 6.79856764e-01,\n",
       "         3.65238762e+00, 8.43865353e-01]])"
      ]
     },
     "execution_count": 104,
     "metadata": {},
     "output_type": "execute_result"
    }
   ],
   "source": [
    "import random\n",
    "import math\n",
    "\n",
    "def get_gausssian(mu, sigma):\n",
    "    \"\"\" returns positive gausssian\"\"\"\n",
    "    random_num = random.gauss(mu,sigma)\n",
    "    while not (random_num>0):\n",
    "        random_num = random.gauss(mu,sigma)\n",
    "    return random_num\n",
    "\n",
    "matrix = list()\n",
    "for i in range(1, 11):\n",
    "    if i%2 == 0: #Even Number\n",
    "        radom_numbers = [get_gausssian(10-2*i, math.sqrt(2*i)) for _ in range(10)]\n",
    "    else: #Odd Number\n",
    "        k = i/2\n",
    "        if k < 3:  #k = 0, 1, 2\n",
    "            radom_numbers = np.random.lognormal(0.5*(2*k+1), math.sqrt(2*k+1), 10) \n",
    "        else:\n",
    "            radom_numbers = np.random.lognormal(0.1*(2*k+1), math.sqrt(2*k+1), 10) \n",
    "    matrix.append(radom_numbers)\n",
    "\n",
    "matrix_A = np.matrix(matrix)\n",
    "matrix_A"
   ]
  },
  {
   "cell_type": "markdown",
   "metadata": {},
   "source": [
    "Generate a vector, B that is compatible to A using random\n",
    "integers from the set, S = {s : 10 ≤ s ≤ 20} such that, the ma-\n",
    "trix product"
   ]
  },
  {
   "cell_type": "code",
   "execution_count": 105,
   "metadata": {},
   "outputs": [
    {
     "data": {
      "text/plain": [
       "array([[17],\n",
       "       [19],\n",
       "       [16],\n",
       "       [17],\n",
       "       [14],\n",
       "       [12],\n",
       "       [12],\n",
       "       [18],\n",
       "       [18],\n",
       "       [10]])"
      ]
     },
     "execution_count": 105,
     "metadata": {},
     "output_type": "execute_result"
    }
   ],
   "source": [
    "# matrix_B = np.random.randint(10,20,size=(10,10))\n",
    "matrix_B = np.random.randint(10,20,size=(10,1))\n",
    "matrix_B"
   ]
  },
  {
   "cell_type": "code",
   "execution_count": 106,
   "metadata": {},
   "outputs": [
    {
     "data": {
      "text/plain": [
       "matrix([[  727.07739393],\n",
       "        [ 1035.15411001],\n",
       "        [ 1794.56902135],\n",
       "        [  629.38827768],\n",
       "        [23691.29930159],\n",
       "        [  311.70166064],\n",
       "        [ 7760.86969919],\n",
       "        [  332.1404544 ],\n",
       "        [ 3733.38991838],\n",
       "        [  263.09667511]])"
      ]
     },
     "execution_count": 106,
     "metadata": {},
     "output_type": "execute_result"
    }
   ],
   "source": [
    "matrix_C =  np.matmul(matrix_A, matrix_B)\n",
    "matrix_C"
   ]
  },
  {
   "cell_type": "markdown",
   "metadata": {},
   "source": [
    "NumPy’s broadcasting abilities are relevant/required\n",
    "\n",
    "1. **Not required if the operations are performed on a single CPU system**\n",
    "2. **Required in the case of parallel processing, can speed up the computation**\n"
   ]
  },
  {
   "cell_type": "markdown",
   "metadata": {},
   "source": [
    "## ________________________"
   ]
  },
  {
   "cell_type": "markdown",
   "metadata": {},
   "source": [
    "If A denotes the money spent on unit quantities of various items over\n",
    "a 10-duration period, and B represents the constant consumption in\n",
    "units of such items over each of this period, write a program that can\n",
    "be used to provides answers to the following: <br>\n",
    "i. The periods where the total costs of consumption are either\n",
    "a minimum or a maximum, and their respective values;"
   ]
  },
  {
   "cell_type": "code",
   "execution_count": 108,
   "metadata": {},
   "outputs": [
    {
     "name": "stdout",
     "output_type": "stream",
     "text": [
      "('Minimum consumption ', matrix([[263.09667511]]))\n",
      "('Maximum consumption ', matrix([[23691.29930159]]))\n"
     ]
    }
   ],
   "source": [
    "print(\"Minimum consumption \", min(matrix_C))\n",
    "print(\"Maximum consumption \", max(matrix_C))"
   ]
  },
  {
   "cell_type": "markdown",
   "metadata": {},
   "source": [
    "ii. Identify the product with minimum price variability, and the\n",
    "product with maximum price variability;"
   ]
  },
  {
   "cell_type": "code",
   "execution_count": 109,
   "metadata": {},
   "outputs": [
    {
     "name": "stdout",
     "output_type": "stream",
     "text": [
      "('Product ', 4, ' has maximum price variablity ', matrix([[1012.56600735]]))\n",
      "('Product ', 2, ' has minimum price variablity ', matrix([[7.56834947]]))\n"
     ]
    }
   ],
   "source": [
    "min_variablity = max_variablity = None\n",
    "min_product = max_product = None\n",
    "\n",
    "for i in range(10):\n",
    "    variablity = max(matrix_A[:,i])-min(matrix_A[:,i])\n",
    "    \n",
    "    if i == 0 :\n",
    "        min_product = max_product= i\n",
    "        min_variablity = max_variablity =  variablity\n",
    "        \n",
    "    if variablity > max_variablity:\n",
    "        max_product = i\n",
    "        max_variablity = variablity\n",
    "        \n",
    "    if min_variablity > variablity :\n",
    "        min_product = i\n",
    "        min_variablity = variablity\n",
    "        \n",
    "print(\"Product \", max_product, \" has maximum price variablity \", max_variablity)\n",
    "print(\"Product \", min_product, \" has minimum price variablity \", min_variablity)"
   ]
  },
  {
   "cell_type": "markdown",
   "metadata": {},
   "source": [
    "iii. Evaluate the impact on the average cost of consumption, if\n",
    "the consumption of products with minimum and maximum\n",
    "variability that are identified above, are switched."
   ]
  },
  {
   "cell_type": "code",
   "execution_count": 120,
   "metadata": {},
   "outputs": [
    {
     "name": "stdout",
     "output_type": "stream",
     "text": [
      "('Current avg consumption of products ', 4027.868651226978)\n",
      "('Projected avg consumption of products ', 27.656435345859123)\n"
     ]
    }
   ],
   "source": [
    "current_avg_consumption = np.average(matrix_C)\n",
    "print(\"Current avg consumption of products \", current_avg_consumption)\n",
    "\n",
    "#switching the products with minimum price variablity and maximum price variablity\n",
    "products_comsumption = np.copy(matrix_A)\n",
    "products_comsumption[:,min_product] = list(matrix_A[:,max_product])\n",
    "products_comsumption[:,max_product] = list(matrix_A[:,min_product])\n",
    "\n",
    "projected_avg_consumption = np.average(products_comsumption)\n",
    "print(\"Projected avg consumption of products \", projected_avg_consumption)"
   ]
  },
  {
   "cell_type": "markdown",
   "metadata": {},
   "source": [
    "**If the consumption of the products with minimum and maximum variablity are switched, the average cost of consumption will go down.**<br>\n",
    "\n",
    "(c) What is the outcome, and the significance of the following operation?"
   ]
  },
  {
   "cell_type": "code",
   "execution_count": 123,
   "metadata": {},
   "outputs": [
    {
     "data": {
      "text/plain": [
       "matrix([[  727.07739393],\n",
       "        [ 1035.15411001],\n",
       "        [ 1794.56902135],\n",
       "        [  629.38827768],\n",
       "        [23691.29930159]])"
      ]
     },
     "execution_count": 123,
     "metadata": {},
     "output_type": "execute_result"
    }
   ],
   "source": [
    "np.dot(matrix_A[0 : 5, :], matrix_B)"
   ]
  },
  {
   "cell_type": "markdown",
   "metadata": {},
   "source": [
    "**A[0 : 5, :]B results in the total consumption of the first 5 products**"
   ]
  },
  {
   "cell_type": "markdown",
   "metadata": {},
   "source": [
    "In relation to the above schema of costs and consumption, by carefully\n",
    "setting out your assumptions and defining all terms used, <br>\n",
    "i. define a mathematical problem that would seek to maximize\n",
    "the consumers utility given a range of values representing her\n",
    "budgetary constraints;"
   ]
  },
  {
   "cell_type": "markdown",
   "metadata": {},
   "source": [
    "**(Similar to Averaging Down in trading) \n",
    "Additional products can be purchased when the price of the products goes below the mean/average and less products when the price is above the average**"
   ]
  },
  {
   "cell_type": "markdown",
   "metadata": {},
   "source": [
    "ii. suggest how, using relevant NumPy or other system built-in\n",
    "libraries, the above problem might be solved.\n",
    "\n",
    "\n",
    "1. **Can decrease the time for validation of algorithms**\n",
    "2. **Parallel processing - decreases time for validation**"
   ]
  },
  {
   "cell_type": "code",
   "execution_count": null,
   "metadata": {},
   "outputs": [],
   "source": []
  },
  {
   "cell_type": "code",
   "execution_count": null,
   "metadata": {},
   "outputs": [],
   "source": []
  }
 ],
 "metadata": {
  "kernelspec": {
   "display_name": "Python 3",
   "language": "python",
   "name": "python3"
  },
  "language_info": {
   "codemirror_mode": {
    "name": "ipython",
    "version": 2
   },
   "file_extension": ".py",
   "mimetype": "text/x-python",
   "name": "python",
   "nbconvert_exporter": "python",
   "pygments_lexer": "ipython2",
   "version": "2.7.15+"
  }
 },
 "nbformat": 4,
 "nbformat_minor": 2
}
